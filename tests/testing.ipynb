{
 "cells": [
  {
   "cell_type": "code",
   "execution_count": 14,
   "id": "dd21a532",
   "metadata": {},
   "outputs": [],
   "source": [
    "from pyo import Sine, Server\n",
    "\n",
    "SAMPLE_RATE = 44100\n",
    "CHANNELS = 2\n",
    "BUFFER_SIZE = 256\n",
    "DUPLEX = 0\n",
    "FREQUENCY = 440\n",
    "AMPLITUDE = 0.2\n",
    "PHASE = 0\n",
    "\n",
    "s = Server(sr=SAMPLE_RATE, nchnls=CHANNELS, buffersize=BUFFER_SIZE, duplex=DUPLEX).boot()\n",
    "sine_wave_left = Sine(freq=FREQUENCY, phase= PHASE, mul= AMPLITUDE)\n",
    "sine_wave_right = Sine(freq=338, phase= PHASE, mul= AMPLITUDE)"
   ]
  },
  {
   "cell_type": "code",
   "execution_count": 15,
   "id": "6ae65c60",
   "metadata": {},
   "outputs": [
    {
     "data": {
      "text/plain": [
       "< Instance of Sine class >"
      ]
     },
     "execution_count": 15,
     "metadata": {},
     "output_type": "execute_result"
    }
   ],
   "source": [
    "sine_wave_left.out(chnl=0)\n",
    "sine_wave_right.out(chnl=1)"
   ]
  }
 ],
 "metadata": {
  "kernelspec": {
   "display_name": "base",
   "language": "python",
   "name": "python3"
  },
  "language_info": {
   "codemirror_mode": {
    "name": "ipython",
    "version": 3
   },
   "file_extension": ".py",
   "mimetype": "text/x-python",
   "name": "python",
   "nbconvert_exporter": "python",
   "pygments_lexer": "ipython3",
   "version": "3.11.9"
  }
 },
 "nbformat": 4,
 "nbformat_minor": 5
}
